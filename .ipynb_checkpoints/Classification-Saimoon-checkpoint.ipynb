{
 "cells": [
  {
   "cell_type": "markdown",
   "metadata": {},
   "source": [
    "Importing Relevant Libraries"
   ]
  },
  {
   "cell_type": "code",
   "execution_count": 1,
   "metadata": {},
   "outputs": [],
   "source": [
    "import csv\n",
    "import random\n",
    "import numpy as np\n",
    "from sklearn import tree\n",
    "from sklearn.model_selection import train_test_split\n",
    "from sklearn.model_selection import cross_val_score\n",
    "from sklearn.metrics import accuracy_score\n",
    "from sklearn.svm import SVC\n",
    "from sklearn.decomposition import PCA\n",
    "from sklearn.preprocessing import StandardScaler\n",
    "from sklearn.neighbors import KNeighborsClassifier\n",
    "from sklearn.ensemble import RandomForestClassifier, VotingClassifier\n",
    "from sklearn.discriminant_analysis import LinearDiscriminantAnalysis as LDA\n",
    "import data_file_reader"
   ]
  },
  {
   "cell_type": "markdown",
   "metadata": {},
   "source": [
    "Calling File reader and splitting train and test set from the overall data"
   ]
  },
  {
   "cell_type": "code",
   "execution_count": 3,
   "metadata": {},
   "outputs": [],
   "source": [
    "filename='features_train.csv'\n",
    "data,features,labels=data_file_reader.file_reader(filename)\n",
    "train_data_features, test_data_features, train_data_labels, test_data_labels = train_test_split(features, labels, test_size=0.2, random_state=10)"
   ]
  },
  {
   "cell_type": "markdown",
   "metadata": {},
   "source": [
    "Defining the classifiers to be used"
   ]
  },
  {
   "cell_type": "code",
   "execution_count": 4,
   "metadata": {},
   "outputs": [],
   "source": [
    "svc=SVC(kernel='linear', C=1)\n",
    "rf=RandomForestClassifier(n_estimators=50, random_state=1)\n",
    "knn=KNeighborsClassifier(n_neighbors=3)\n",
    "mv=VotingClassifier(estimators=[('rf', rf),('knn',knn),('svc',svc)], voting='hard')"
   ]
  },
  {
   "cell_type": "markdown",
   "metadata": {},
   "source": [
    "Performing cross validation on the classfiers to gauge performance"
   ]
  },
  {
   "cell_type": "code",
   "execution_count": 5,
   "metadata": {},
   "outputs": [
    {
     "name": "stdout",
     "output_type": "stream",
     "text": [
      "The Accuracy of the Support Vector Machine Classifier with 10-fold Cross Validation is : 81.593353% (+/- 0.12)\n",
      "The Accuracy of the Random Forest Classifier with 10-fold Cross Validation is : 85.141740% (+/- 0.12)\n",
      "The Accuracy of the K-Nearest Neighbour Classifier with 10-fold Cross Validation is : 82.903226% (+/- 0.10)\n",
      "The Accuracy of the Majority Voting Classifier with 10-fold Cross Validation is : 86.999022% (+/- 0.10)\n"
     ]
    }
   ],
   "source": [
    "cv_scores_svc=cross_val_score(svc, train_data_features,np.ravel(train_data_labels), cv=10)\n",
    "accur_crossval_svc=cv_scores_svc.mean()*100\n",
    "std_crossval_svc=cv_scores_svc.std()*2\n",
    "print('The Accuracy of the Support Vector Machine Classifier with 10-fold Cross Validation is : %f'%accur_crossval_svc+'%'+' (+/- %0.2f)'%std_crossval_svc)\n",
    "\n",
    "cv_scores_rf=cross_val_score(rf, train_data_features,np.ravel(train_data_labels), cv=10)\n",
    "accur_crossval_rf=cv_scores_rf.mean()*100\n",
    "std_crossval_rf=cv_scores_rf.std()*2\n",
    "print('The Accuracy of the Random Forest Classifier with 10-fold Cross Validation is : %f'%accur_crossval_rf+'%'+' (+/- %0.2f)'%std_crossval_rf)\n",
    "\n",
    "cv_scores_knn=cross_val_score(knn, train_data_features,np.ravel(train_data_labels), cv=10)\n",
    "accur_crossval_knn=cv_scores_knn.mean()*100\n",
    "std_crossval_knn=cv_scores_knn.std()*2\n",
    "print('The Accuracy of the K-Nearest Neighbour Classifier with 10-fold Cross Validation is : %f'%accur_crossval_knn+'%'+' (+/- %0.2f)'%std_crossval_knn)\n",
    "\n",
    "cv_scores_mv=cross_val_score(mv, train_data_features,np.ravel(train_data_labels), cv=10)\n",
    "accur_crossval_mv=cv_scores_mv.mean()*100\n",
    "std_crossval_mv=cv_scores_mv.std()*2\n",
    "print('The Accuracy of the Majority Voting Classifier with 10-fold Cross Validation is : %f'%accur_crossval_mv+'%'+' (+/- %0.2f)'%std_crossval_mv)\n"
   ]
  },
  {
   "cell_type": "markdown",
   "metadata": {},
   "source": [
    "Following are two procedures to perform PCA and LDA on the data to perform feature reduction. "
   ]
  },
  {
   "cell_type": "code",
   "execution_count": null,
   "metadata": {},
   "outputs": [],
   "source": [
    "# Scale the input data (Good Practice when performing PCA)\n",
    "sc=StandardScaler()\n",
    "train_set=sc.fit_transform(train_data_features)\n",
    "test_set=sc.fit_transform(test_data_features)\n",
    "\n",
    "#Perform PCA on the input data reducing the input from 4 dimensions to 2 dimensions\n",
    "pca=PCA(n_components=40)\n",
    "pca_train_set= pca.fit_transform(train_set) \n",
    "pca_test_set=pca.fit_transform(test_set)\n",
    "print(pca.explained_variance_ratio_)  "
   ]
  },
  {
   "cell_type": "code",
   "execution_count": null,
   "metadata": {},
   "outputs": [],
   "source": [
    "lda=LDA(n_components=20)\n",
    "lda_train_set=lda.fit_transform(train_data_features,np.ravel(train_data_labels))\n",
    "lda_test_set = lda.transform(test_data_features)"
   ]
  }
 ],
 "metadata": {
  "kernelspec": {
   "display_name": "Python 3",
   "language": "python",
   "name": "python3"
  },
  "language_info": {
   "codemirror_mode": {
    "name": "ipython",
    "version": 3
   },
   "file_extension": ".py",
   "mimetype": "text/x-python",
   "name": "python",
   "nbconvert_exporter": "python",
   "pygments_lexer": "ipython3",
   "version": "3.7.3"
  }
 },
 "nbformat": 4,
 "nbformat_minor": 2
}
