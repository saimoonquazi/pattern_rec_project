{
 "cells": [
  {
   "cell_type": "markdown",
   "metadata": {},
   "source": [
    "Importing Relevant Libraries"
   ]
  },
  {
   "cell_type": "code",
   "execution_count": 19,
   "metadata": {},
   "outputs": [],
   "source": [
    "import csv\n",
    "import random\n",
    "import numpy as np\n",
    "from sklearn import tree\n",
    "from sklearn.model_selection import train_test_split\n",
    "from sklearn.model_selection import cross_val_score\n",
    "from sklearn.metrics import accuracy_score\n",
    "from sklearn.svm import SVC\n",
    "from sklearn.decomposition import PCA\n",
    "from sklearn.preprocessing import StandardScaler\n",
    "from sklearn.neighbors import KNeighborsClassifier\n",
    "from sklearn.ensemble import RandomForestClassifier, VotingClassifier\n",
    "from sklearn.discriminant_analysis import LinearDiscriminantAnalysis as LDA\n",
    "import data_file_reader\n",
    "from sklearn.decomposition import FastICA\n",
    "from sklearn.datasets import load_digits\n",
    "from tabulate import tabulate\n",
    "import feature_extractor"
   ]
  },
  {
   "cell_type": "markdown",
   "metadata": {},
   "source": [
    "Calling File reader and splitting train and test set from the overall data"
   ]
  },
  {
   "cell_type": "code",
   "execution_count": 20,
   "metadata": {},
   "outputs": [],
   "source": [
    "filename='features_train.csv'\n",
    "data,features,labels=data_file_reader.file_reader(filename,'train')\n",
    "#train_data_features, test_data_features, train_data_labels, test_data_labels = train_test_split(features, labels, test_size=0.2, random_state=10)"
   ]
  },
  {
   "cell_type": "markdown",
   "metadata": {},
   "source": [
    "Defining the classifiers to be used"
   ]
  },
  {
   "cell_type": "code",
   "execution_count": 21,
   "metadata": {},
   "outputs": [],
   "source": [
    "svc=SVC(kernel='linear', C=1)\n",
    "rf=RandomForestClassifier(n_estimators=50, random_state=1)\n",
    "knn=KNeighborsClassifier(n_neighbors=3)\n",
    "mv=VotingClassifier(estimators=[('rf', rf),('knn',knn),('svc',svc)], voting='hard')"
   ]
  },
  {
   "cell_type": "markdown",
   "metadata": {},
   "source": [
    "Performing cross validation on the classfiers to gauge performance"
   ]
  },
  {
   "cell_type": "code",
   "execution_count": 22,
   "metadata": {},
   "outputs": [
    {
     "name": "stdout",
     "output_type": "stream",
     "text": [
      "The Accuracy of the Support Vector Machine Classifier with 10-fold Cross Validation is : 80.250000% (+/- 7.89)\n",
      "The Accuracy of the Random Forest Classifier with 10-fold Cross Validation is : 84.500000% (+/- 11.36)\n",
      "The Accuracy of the K-Nearest Neighbour Classifier with 10-fold Cross Validation is : 83.250000% (+/- 11.63)\n",
      "The Accuracy of the Majority Voting Classifier with 10-fold Cross Validation is : 86.250000% (+/- 8.14)\n"
     ]
    }
   ],
   "source": [
    "num_folds=10\n",
    "cv_scores_svc=cross_val_score(svc, features,np.ravel(labels), cv=num_folds)\n",
    "accur_crossval_svc=cv_scores_svc.mean()*100\n",
    "std_crossval_svc=cv_scores_svc.std()*200\n",
    "print('The Accuracy of the Support Vector Machine Classifier with 10-fold Cross Validation is : %f'%accur_crossval_svc+'%'+' (+/- %0.2f)'%std_crossval_svc)\n",
    "\n",
    "cv_scores_rf=cross_val_score(rf, features,np.ravel(labels), cv=num_folds)\n",
    "accur_crossval_rf=cv_scores_rf.mean()*100\n",
    "std_crossval_rf=cv_scores_rf.std()*200\n",
    "print('The Accuracy of the Random Forest Classifier with 10-fold Cross Validation is : %f'%accur_crossval_rf+'%'+' (+/- %0.2f)'%std_crossval_rf)\n",
    "\n",
    "cv_scores_knn=cross_val_score(knn, features,np.ravel(labels), cv=num_folds)\n",
    "accur_crossval_knn=cv_scores_knn.mean()*100\n",
    "std_crossval_knn=cv_scores_knn.std()*200\n",
    "print('The Accuracy of the K-Nearest Neighbour Classifier with 10-fold Cross Validation is : %f'%accur_crossval_knn+'%'+' (+/- %0.2f)'%std_crossval_knn)\n",
    "\n",
    "cv_scores_mv=cross_val_score(mv, features,np.ravel(labels), cv=num_folds)\n",
    "accur_crossval_mv=cv_scores_mv.mean()*100\n",
    "std_crossval_mv=cv_scores_mv.std()*200\n",
    "print('The Accuracy of the Majority Voting Classifier with 10-fold Cross Validation is : %f'%accur_crossval_mv+'%'+' (+/- %0.2f)'%std_crossval_mv)\n",
    "\n"
   ]
  },
  {
   "cell_type": "markdown",
   "metadata": {},
   "source": [
    "Following are two procedures to perform PCA and LDA on the data to perform feature reduction. "
   ]
  },
  {
   "cell_type": "code",
   "execution_count": 23,
   "metadata": {},
   "outputs": [
    {
     "name": "stdout",
     "output_type": "stream",
     "text": [
      "[9.04820614e-01 4.20131350e-02 1.72442317e-02 1.28639860e-02\n",
      " 6.38265627e-03 4.25028515e-03 2.18320298e-03 1.68602823e-03\n",
      " 1.30826545e-03 1.07071118e-03 9.36918946e-04 8.29274936e-04\n",
      " 6.97499650e-04 4.35891622e-04 3.80684682e-04 3.12884174e-04\n",
      " 2.88769329e-04 2.33481355e-04 2.06699702e-04 1.82689585e-04\n",
      " 1.61362225e-04 1.51530862e-04 1.19724737e-04 1.16818126e-04\n",
      " 1.10760614e-04 9.00461190e-05 8.00065405e-05 7.61983151e-05\n",
      " 6.86210887e-05 6.61878387e-05 5.61016875e-05 5.00834098e-05\n",
      " 4.68963462e-05 4.24682376e-05 3.58925603e-05 3.49929716e-05\n",
      " 3.27107732e-05 2.77768294e-05 2.66288436e-05 2.50646129e-05\n",
      " 1.92742645e-05 1.91439422e-05 1.81311971e-05 1.57656447e-05\n",
      " 1.38938651e-05 1.30119490e-05 1.21692383e-05 1.06308516e-05\n",
      " 1.02124018e-05 8.23806161e-06 7.91267557e-06 7.36590782e-06\n",
      " 6.45249382e-06 5.75202473e-06 5.48028565e-06 4.72591863e-06\n",
      " 4.60441776e-06 4.32500315e-06 4.01948684e-06 3.74068203e-06\n",
      " 3.38721165e-06 3.21089333e-06 2.96648151e-06 2.64824816e-06\n",
      " 2.58557564e-06 2.33044902e-06 2.17754441e-06 2.11301057e-06\n",
      " 1.99138942e-06 1.75971954e-06 1.63235202e-06 1.60004436e-06\n",
      " 1.33200049e-06 1.25916736e-06 1.24431928e-06 1.18105584e-06\n",
      " 1.14883813e-06 1.11456109e-06 9.40524388e-07 8.83371438e-07]\n"
     ]
    }
   ],
   "source": [
    "# Scale the input data (Good Practice when performing PCA)\n",
    "sc=StandardScaler()\n",
    "train_set=sc.fit_transform(features)\n",
    "#test_set=sc.fit_transform(test_data_features)\n",
    "\n",
    "#Perform PCA on the input data reducing the input from 4 dimensions to 2 dimensions\n",
    "pca=PCA(n_components=80)\n",
    "pca_train_set= pca.fit_transform(train_set) \n",
    "#pca_test_set=pca.fit_transform(test_set)\n",
    "print(pca.explained_variance_ratio_)  "
   ]
  },
  {
   "cell_type": "code",
   "execution_count": 24,
   "metadata": {},
   "outputs": [
    {
     "name": "stdout",
     "output_type": "stream",
     "text": [
      "The Accuracy of the Support Vector Machine Classifier with 10-fold Cross Validation is : 89.000000% (+/- 6.40)\n",
      "The Accuracy of the Random Forest Classifier with 10-fold Cross Validation is : 91.750000% (+/- 10.74)\n",
      "The Accuracy of the K-Nearest Neighbour Classifier with 10-fold Cross Validation is : 83.750000% (+/- 11.63)\n",
      "The Accuracy of the Majority Voting Classifier with 10-fold Cross Validation is : 91.500000% (+/- 9.54)\n"
     ]
    }
   ],
   "source": [
    "cv_scores_svc_pca=cross_val_score(svc, pca_train_set,np.ravel(labels), cv=num_folds)\n",
    "accur_crossval_svc_pca=cv_scores_svc_pca.mean()*100\n",
    "std_crossval_svc_pca=cv_scores_svc_pca.std()*200\n",
    "print('The Accuracy of the Support Vector Machine Classifier with 10-fold Cross Validation is : %f'%accur_crossval_svc_pca+'%'+' (+/- %0.2f)'%std_crossval_svc_pca)\n",
    "\n",
    "cv_scores_rf_pca=cross_val_score(rf, pca_train_set,np.ravel(labels), cv=num_folds)\n",
    "accur_crossval_rf_pca=cv_scores_rf_pca.mean()*100\n",
    "std_crossval_rf_pca=cv_scores_rf_pca.std()*200\n",
    "print('The Accuracy of the Random Forest Classifier with 10-fold Cross Validation is : %f'%accur_crossval_rf_pca+'%'+' (+/- %0.2f)'%std_crossval_rf_pca)\n",
    "\n",
    "cv_scores_knn_pca=cross_val_score(knn, pca_train_set,np.ravel(labels), cv=num_folds)\n",
    "accur_crossval_knn_pca=cv_scores_knn_pca.mean()*100\n",
    "std_crossval_knn_pca=cv_scores_knn.std()*200\n",
    "print('The Accuracy of the K-Nearest Neighbour Classifier with 10-fold Cross Validation is : %f'%accur_crossval_knn_pca+'%'+' (+/- %0.2f)'%std_crossval_knn_pca)\n",
    "\n",
    "cv_scores_mv_pca=cross_val_score(mv, pca_train_set,np.ravel(labels), cv=num_folds)\n",
    "accur_crossval_mv_pca=cv_scores_mv_pca.mean()*100\n",
    "std_crossval_mv_pca=cv_scores_mv_pca.std()*200\n",
    "print('The Accuracy of the Majority Voting Classifier with 10-fold Cross Validation is : %f'%accur_crossval_mv_pca+'%'+' (+/- %0.2f)'%std_crossval_mv_pca)\n"
   ]
  },
  {
   "cell_type": "code",
   "execution_count": 25,
   "metadata": {},
   "outputs": [
    {
     "name": "stderr",
     "output_type": "stream",
     "text": [
      "/home/simondaniels/anaconda3/envs/my_env_new/lib/python3.7/site-packages/sklearn/discriminant_analysis.py:388: UserWarning: Variables are collinear.\n",
      "  warnings.warn(\"Variables are collinear.\")\n"
     ]
    },
    {
     "name": "stdout",
     "output_type": "stream",
     "text": [
      "The Accuracy of the Support Vector Machine Classifier +LDA with 10-fold Cross Validation is : 96.500000% (+/- 0.04)\n",
      "The Accuracy of the Random Forest Classifier + LDA with 10-fold Cross Validation is : 93.250000% (+/- 0.08)\n",
      "The Accuracy of the K-Nearest Neighbour Classifier + LDA with 10-fold Cross Validation is : 95.500000% (+/- 0.05)\n",
      "The Accuracy of the Majority Voting Classifier +LDA with 10-fold Cross Validation is : 95.500000% (+/- 0.05)\n"
     ]
    }
   ],
   "source": [
    "lda=LDA(n_components=200)\n",
    "lda_train_set=lda.fit_transform(features,np.ravel(labels))\n",
    "#lda_test_set = lda.transform(test_data_features)\n",
    "\n",
    "cv_scores_svc_lda=cross_val_score(svc, lda_train_set,np.ravel(labels), cv=num_folds)\n",
    "accur_crossval_svc_lda=cv_scores_svc_lda.mean()*100\n",
    "std_crossval_svc_lda=cv_scores_svc_lda.std()*2\n",
    "print('The Accuracy of the Support Vector Machine Classifier +LDA with 10-fold Cross Validation is : %f'%accur_crossval_svc_lda+'%'+' (+/- %0.2f)'%std_crossval_svc_lda)\n",
    "\n",
    "cv_scores_rf_lda=cross_val_score(rf, lda_train_set,np.ravel(labels), cv=num_folds)\n",
    "accur_crossval_rf_lda=cv_scores_rf_lda.mean()*100\n",
    "std_crossval_rf_lda=cv_scores_rf_lda.std()*2\n",
    "print('The Accuracy of the Random Forest Classifier + LDA with 10-fold Cross Validation is : %f'%accur_crossval_rf_lda+'%'+' (+/- %0.2f)'%std_crossval_rf_lda)\n",
    "\n",
    "cv_scores_knn_lda=cross_val_score(knn, lda_train_set,np.ravel(labels), cv=num_folds)\n",
    "accur_crossval_knn_lda=cv_scores_knn_lda.mean()*100\n",
    "std_crossval_knn_lda=cv_scores_knn_lda.std()*2\n",
    "print('The Accuracy of the K-Nearest Neighbour Classifier + LDA with 10-fold Cross Validation is : %f'%accur_crossval_knn_lda+'%'+' (+/- %0.2f)'%std_crossval_knn_lda)\n",
    "\n",
    "cv_scores_mv_lda=cross_val_score(mv, lda_train_set,np.ravel(labels), cv=num_folds)\n",
    "accur_crossval_mv_lda=cv_scores_mv_lda.mean()*100\n",
    "std_crossval_mv_lda=cv_scores_mv_lda.std()*2\n",
    "print('The Accuracy of the Majority Voting Classifier +LDA with 10-fold Cross Validation is : %f'%accur_crossval_mv_lda+'%'+' (+/- %0.2f)'%std_crossval_mv_lda)\n"
   ]
  },
  {
   "cell_type": "code",
   "execution_count": 26,
   "metadata": {},
   "outputs": [
    {
     "name": "stderr",
     "output_type": "stream",
     "text": [
      "/home/simondaniels/anaconda3/envs/my_env_new/lib/python3.7/site-packages/sklearn/decomposition/fastica_.py:121: ConvergenceWarning: FastICA did not converge. Consider increasing tolerance or the maximum number of iterations.\n",
      "  ConvergenceWarning)\n"
     ]
    },
    {
     "name": "stdout",
     "output_type": "stream",
     "text": [
      "The Accuracy of the Support Vector Machine Classifier + ICA with 10-fold Cross Validation is : 82.000000% (+/- 12.61)\n",
      "The Accuracy of the Random Forest Classifier + ICA with 10-fold Cross Validation is : 80.750000% (+/- 12.66)\n",
      "The Accuracy of the K-Nearest Neighbour Classifier + ICA with 10-fold Cross Validation is : 73.250000% (+/- 13.97)\n",
      "The Accuracy of the Majority Voting Classifier + ICA with 10-fold Cross Validation is : 80.250000% (+/- 12.34)\n"
     ]
    }
   ],
   "source": [
    "ica =  FastICA(n_components=320,random_state=0)\n",
    "ica_train_set=ica.fit_transform(features,np.ravel(labels))\n",
    "#ica_test_set = ica.transform(test_data_features)\n",
    "\n",
    "cv_scores_svc_ica=cross_val_score(svc, ica_train_set,np.ravel(labels), cv=num_folds)\n",
    "accur_crossval_svc_ica=cv_scores_svc_ica.mean()*100\n",
    "std_crossval_svc_ica=cv_scores_svc_ica.std()*200\n",
    "print('The Accuracy of the Support Vector Machine Classifier + ICA with 10-fold Cross Validation is : %f'%accur_crossval_svc_ica+'%'+' (+/- %0.2f)'%std_crossval_svc_ica)\n",
    "\n",
    "cv_scores_rf_ica=cross_val_score(rf, ica_train_set,np.ravel(labels), cv=num_folds)\n",
    "accur_crossval_rf_ica=cv_scores_rf_ica.mean()*100\n",
    "std_crossval_rf_ica=cv_scores_rf_ica.std()*200\n",
    "print('The Accuracy of the Random Forest Classifier + ICA with 10-fold Cross Validation is : %f'%accur_crossval_rf_ica+'%'+' (+/- %0.2f)'%std_crossval_rf_ica)\n",
    "\n",
    "cv_scores_knn_ica=cross_val_score(knn, ica_train_set,np.ravel(labels), cv=num_folds)\n",
    "accur_crossval_knn_ica=cv_scores_knn_ica.mean()*100\n",
    "std_crossval_knn_ica=cv_scores_knn_ica.std()*200\n",
    "print('The Accuracy of the K-Nearest Neighbour Classifier + ICA with 10-fold Cross Validation is : %f'%accur_crossval_knn_ica+'%'+' (+/- %0.2f)'%std_crossval_knn_ica)\n",
    "\n",
    "cv_scores_mv_ica=cross_val_score(mv, ica_train_set,np.ravel(labels), cv=num_folds)\n",
    "accur_crossval_mv_ica=cv_scores_mv_ica.mean()*100\n",
    "std_crossval_mv_ica=cv_scores_mv_ica.std()*200\n",
    "print('The Accuracy of the Majority Voting Classifier + ICA with 10-fold Cross Validation is : %f'%accur_crossval_mv_ica+'%'+' (+/- %0.2f)'%std_crossval_mv_ica)\n",
    "\n"
   ]
  },
  {
   "cell_type": "code",
   "execution_count": 28,
   "metadata": {},
   "outputs": [
    {
     "name": "stdout",
     "output_type": "stream",
     "text": [
      "--------------------  ----------------------  -----------------  -------------------  -----------------\n",
      "                      Support Vector Machine  Random Forest      K-Nearest Neighbour  Majority Voting\n",
      "No Feature Reduction  80.24999999999999       84.5               83.25000000000001    86.25\n",
      "PCA                   89.0                    91.74999999999999  83.75                91.5\n",
      "LDA                   96.49999999999999       93.24999999999999  95.49999999999999    95.49999999999999\n",
      "ICA                   82.0                    80.74999999999999  73.25000000000001    80.25\n",
      "--------------------  ----------------------  -----------------  -------------------  -----------------\n"
     ]
    }
   ],
   "source": [
    "classifiers=[' ', 'Support Vector Machine','Random Forest','K-Nearest Neighbour','Majority Voting']\n",
    "feature_reducers=np.asarray(['No Feature Reduction','PCA','LDA','ICA'])\n",
    "accuracy_values=[(classifiers),(feature_reducers[0],accur_crossval_svc,accur_crossval_rf,accur_crossval_knn,accur_crossval_mv),(feature_reducers[1],accur_crossval_svc_pca,accur_crossval_rf_pca,accur_crossval_knn_pca,accur_crossval_mv_pca),(feature_reducers[2],accur_crossval_svc_lda,accur_crossval_rf_lda,accur_crossval_knn_lda,accur_crossval_mv_lda),(feature_reducers[3],accur_crossval_svc_ica,accur_crossval_rf_ica,accur_crossval_knn_ica,accur_crossval_mv_ica)]\n",
    "print(tabulate(accuracy_values))\n",
    "#print(accuracy_values)"
   ]
  },
  {
   "cell_type": "code",
   "execution_count": 33,
   "metadata": {},
   "outputs": [],
   "source": [
    "filename='features_test.csv'\n",
    "data,predict_features,_=data_file_reader.file_reader(filename,'test')"
   ]
  },
  {
   "cell_type": "code",
   "execution_count": 34,
   "metadata": {},
   "outputs": [
    {
     "name": "stdout",
     "output_type": "stream",
     "text": [
      "[0.]\n"
     ]
    }
   ],
   "source": [
    "lda_test_set = lda.transform(predict_features)\n",
    "clf=mv.fit(lda_train_set,np.ravel(labels))\n",
    "prediction=clf.predict(lda_test_set)\n",
    "print(prediction)"
   ]
  },
  {
   "cell_type": "code",
   "execution_count": null,
   "metadata": {},
   "outputs": [],
   "source": []
  }
 ],
 "metadata": {
  "kernelspec": {
   "display_name": "Python 3",
   "language": "python",
   "name": "python3"
  },
  "language_info": {
   "codemirror_mode": {
    "name": "ipython",
    "version": 3
   },
   "file_extension": ".py",
   "mimetype": "text/x-python",
   "name": "python",
   "nbconvert_exporter": "python",
   "pygments_lexer": "ipython3",
   "version": "3.7.3"
  }
 },
 "nbformat": 4,
 "nbformat_minor": 2
}
