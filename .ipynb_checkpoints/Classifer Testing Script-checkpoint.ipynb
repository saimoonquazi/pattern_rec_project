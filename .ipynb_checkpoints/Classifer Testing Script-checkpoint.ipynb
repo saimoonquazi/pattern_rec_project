{
 "cells": [
  {
   "cell_type": "markdown",
   "metadata": {},
   "source": [
    "This script is used as a test bed to test the performance of the classifiers and feature reduction methods. Most of the functions used in this script belong to the sklearn library and any other function used has been developed by the project team. "
   ]
  },
  {
   "cell_type": "markdown",
   "metadata": {},
   "source": [
    "Importing Relevant Libraries"
   ]
  },
  {
   "cell_type": "code",
   "execution_count": 1,
   "metadata": {},
   "outputs": [],
   "source": [
    "import csv\n",
    "import random\n",
    "import numpy as np\n",
    "from sklearn import tree\n",
    "from sklearn.model_selection import train_test_split\n",
    "from sklearn.model_selection import cross_val_score\n",
    "from sklearn.metrics import accuracy_score\n",
    "from sklearn.svm import SVC\n",
    "from sklearn.decomposition import PCA\n",
    "from sklearn.preprocessing import StandardScaler\n",
    "from sklearn.neighbors import KNeighborsClassifier\n",
    "from sklearn.ensemble import RandomForestClassifier, VotingClassifier\n",
    "from sklearn.discriminant_analysis import LinearDiscriminantAnalysis as LDA\n",
    "import data_file_reader\n",
    "from sklearn.decomposition import FastICA\n",
    "from sklearn.datasets import load_digits\n",
    "from tabulate import tabulate\n",
    "from sklearn.metrics import confusion_matrix  \n",
    "from sklearn.metrics import precision_score\n",
    "import matplotlib.pyplot as plt"
   ]
  },
  {
   "cell_type": "markdown",
   "metadata": {},
   "source": [
    "Calling File reader, read the training data csv file and split train and validation set from the overall data"
   ]
  },
  {
   "cell_type": "code",
   "execution_count": 2,
   "metadata": {},
   "outputs": [],
   "source": [
    "filename='features_train.csv'\n",
    "data,features,labels=data_file_reader.file_reader(filename,'train')\n",
    "train_data_features, val_data_features, train_data_labels, val_data_labels = train_test_split(features, labels, test_size=0.4, random_state=10)"
   ]
  },
  {
   "cell_type": "markdown",
   "metadata": {},
   "source": [
    "Defining the classifiers to be used. Most of the parameters were kept as default and only slightly tuned to improve performance"
   ]
  },
  {
   "cell_type": "code",
   "execution_count": 3,
   "metadata": {},
   "outputs": [],
   "source": [
    "#Define the classifiers\n",
    "svc=SVC(kernel='linear', C=1)\n",
    "rf=RandomForestClassifier(n_estimators=50, random_state=1)\n",
    "knn=KNeighborsClassifier(n_neighbors=3)\n",
    "mv=VotingClassifier(estimators=[('rf', rf),('knn',knn),('svc',svc)], voting='hard')\n",
    "\n",
    "#Define number of folds to be used for the cross validation. For this project, this section was ran twice, once with 40 folds, and then again with 10 folds\n",
    "num_folds=10"
   ]
  },
  {
   "cell_type": "markdown",
   "metadata": {},
   "source": [
    "Performing cross validation on the classfiers to gauge performance"
   ]
  },
  {
   "cell_type": "code",
   "execution_count": 4,
   "metadata": {
    "scrolled": true
   },
   "outputs": [
    {
     "name": "stdout",
     "output_type": "stream",
     "text": [
      "The Accuracy of the Support Vector Machine Classifier with Cross Validation is : 71.597101% (+/- 19.01)\n",
      "The Accuracy of the Random Forest Classifier with Cross Validation is : 78.358696% (+/- 25.89)\n",
      "The Accuracy of the K-Nearest Neighbour Classifier with Cross Validation is : 72.418116% (+/- 20.85)\n",
      "The Accuracy of the Majority Voting Classifier with Cross Validation is : 76.637681% (+/- 23.76)\n"
     ]
    }
   ],
   "source": [
    "#Conduct cross validation on the validation set and print out the accuracy and standard deviations for SVC Classifier (RAW)\n",
    "cv_scores_svc=cross_val_score(svc, val_data_features,np.ravel(val_data_labels), cv=num_folds)\n",
    "accur_crossval_svc=cv_scores_svc.mean()*100\n",
    "std_crossval_svc=cv_scores_svc.std()*200\n",
    "print('The Accuracy of the Support Vector Machine Classifier with Cross Validation is : %f'%accur_crossval_svc+'%'+' (+/- %0.2f)'%std_crossval_svc)\n",
    "\n",
    "#Conduct cross validation on the validation set and print out the accuracy and standard deviations for Random Forest Classifier (RAW)\n",
    "cv_scores_rf=cross_val_score(rf, val_data_features,np.ravel(val_data_labels), cv=num_folds)\n",
    "accur_crossval_rf=cv_scores_rf.mean()*100\n",
    "std_crossval_rf=cv_scores_rf.std()*200\n",
    "print('The Accuracy of the Random Forest Classifier with Cross Validation is : %f'%accur_crossval_rf+'%'+' (+/- %0.2f)'%std_crossval_rf)\n",
    "\n",
    "#Conduct cross validation on the validation set and print out the accuracy and standard deviations for KNN Classifier (RAW)\n",
    "cv_scores_knn=cross_val_score(knn, val_data_features,np.ravel(val_data_labels), cv=num_folds)\n",
    "accur_crossval_knn=cv_scores_knn.mean()*100\n",
    "std_crossval_knn=cv_scores_knn.std()*200\n",
    "print('The Accuracy of the K-Nearest Neighbour Classifier with Cross Validation is : %f'%accur_crossval_knn+'%'+' (+/- %0.2f)'%std_crossval_knn)\n",
    "\n",
    "#Conduct cross validation on the validation set and print out the accuracy and standard deviations for Majority Voting Classifier (RAW)\n",
    "cv_scores_mv=cross_val_score(mv, val_data_features,np.ravel(val_data_labels), cv=num_folds)\n",
    "accur_crossval_mv=cv_scores_mv.mean()*100\n",
    "std_crossval_mv=cv_scores_mv.std()*200\n",
    "print('The Accuracy of the Majority Voting Classifier with Cross Validation is : %f'%accur_crossval_mv+'%'+' (+/- %0.2f)'%std_crossval_mv)"
   ]
  },
  {
   "cell_type": "markdown",
   "metadata": {},
   "source": [
    "Following procedure is to perform PCA on the data to perform feature reduction. "
   ]
  },
  {
   "cell_type": "code",
   "execution_count": 5,
   "metadata": {},
   "outputs": [
    {
     "name": "stdout",
     "output_type": "stream",
     "text": [
      "[9.22678447e-01 3.26033680e-02 1.41377571e-02 1.35646071e-02\n",
      " 4.52464622e-03 3.64329873e-03 1.57238055e-03 1.31847048e-03\n",
      " 1.20194465e-03 9.06193681e-04 6.20945715e-04 5.09105404e-04\n",
      " 4.48340255e-04 3.50342353e-04 2.44984028e-04 2.22160478e-04\n",
      " 1.77906901e-04 1.43724996e-04 1.32894273e-04 1.21044074e-04\n",
      " 1.05901607e-04 8.44363373e-05 7.30087691e-05 6.81504925e-05\n",
      " 6.13620566e-05 5.34265913e-05 4.62556930e-05 3.93321310e-05\n",
      " 3.64338238e-05 2.92755873e-05 2.54343282e-05 2.49609253e-05\n",
      " 2.42545755e-05 2.15325073e-05 1.75626159e-05 1.47918905e-05\n",
      " 1.33540549e-05 1.23000757e-05 1.18834264e-05 1.01683069e-05\n",
      " 9.11856427e-06 8.83509786e-06 7.22473549e-06 6.66915911e-06\n",
      " 5.85646800e-06 5.79825810e-06 4.51806498e-06 4.29662492e-06\n",
      " 4.00399804e-06 3.71109440e-06 3.50400840e-06 2.95648278e-06\n",
      " 2.59148484e-06 2.49881915e-06 2.35358678e-06 2.29376498e-06\n",
      " 1.89990427e-06 1.77081860e-06 1.75021462e-06 1.64525260e-06\n",
      " 1.41116504e-06 1.22068908e-06 1.18187744e-06 1.12228721e-06\n",
      " 1.05464345e-06 9.37746206e-07 8.60112523e-07 7.15983289e-07\n",
      " 6.76132394e-07 6.35981478e-07 5.72117694e-07 5.33928297e-07\n",
      " 5.09180222e-07 4.72762072e-07 4.49866676e-07 4.37922344e-07\n",
      " 4.14509045e-07 3.80917199e-07 3.24228301e-07 3.09191487e-07\n",
      " 3.04552129e-07 2.79688023e-07 2.71575988e-07 2.66731552e-07\n",
      " 2.56095659e-07 2.44511071e-07 2.20840878e-07 2.17004673e-07\n",
      " 2.00279697e-07 1.97738454e-07 1.81208320e-07 1.73379259e-07\n",
      " 1.62405683e-07 1.54124129e-07 1.49990817e-07 1.38338702e-07\n",
      " 1.31518037e-07 1.30897688e-07 1.25387021e-07 1.14716138e-07]\n"
     ]
    }
   ],
   "source": [
    "# Scale the input data (Good Practice when performing PCA)\n",
    "sc=StandardScaler()\n",
    "train_set=sc.fit_transform(val_data_features)\n",
    "\n",
    "#Perform PCA on the input data reducing the input from 360 dimensions to 100 dimensions\n",
    "pca=PCA(n_components=100)\n",
    "pca_train_set= pca.fit_transform(train_set) \n",
    "print(pca.explained_variance_ratio_)  "
   ]
  },
  {
   "cell_type": "markdown",
   "metadata": {},
   "source": [
    "The following section conducts the cross validation once again, this time using the PCA transformed dataset to classify the data. The same number of folds as specified above. "
   ]
  },
  {
   "cell_type": "code",
   "execution_count": 6,
   "metadata": {},
   "outputs": [
    {
     "name": "stdout",
     "output_type": "stream",
     "text": [
      "The Accuracy of the Support Vector Machine Classifier with Cross Validation is : 76.675362% (+/- 14.71)\n",
      "The Accuracy of the Random Forest Classifier with Cross Validation is : 78.849275% (+/- 14.36)\n",
      "The Accuracy of the K-Nearest Neighbour Classifier with Cross Validation is : 70.471014% (+/- 20.85)\n",
      "The Accuracy of the Majority Voting Classifier with Cross Validation is : 78.326812% (+/- 16.02)\n"
     ]
    }
   ],
   "source": [
    "#Conduct cross validation on the validation set and print out the accuracy and standard deviations for SVC Classifier (PCA)\n",
    "cv_scores_svc_pca=cross_val_score(svc, pca_train_set,np.ravel(val_data_labels), cv=num_folds)\n",
    "accur_crossval_svc_pca=cv_scores_svc_pca.mean()*100\n",
    "std_crossval_svc_pca=cv_scores_svc_pca.std()*200\n",
    "print('The Accuracy of the Support Vector Machine Classifier with Cross Validation is : %f'%accur_crossval_svc_pca+'%'+' (+/- %0.2f)'%std_crossval_svc_pca)\n",
    "\n",
    "#Conduct cross validation on the validation set and print out the accuracy and standard deviations for SVC Classifier (PCA)\n",
    "cv_scores_rf_pca=cross_val_score(rf, pca_train_set,np.ravel(val_data_labels), cv=num_folds)\n",
    "accur_crossval_rf_pca=cv_scores_rf_pca.mean()*100\n",
    "std_crossval_rf_pca=cv_scores_rf_pca.std()*200\n",
    "print('The Accuracy of the Random Forest Classifier with Cross Validation is : %f'%accur_crossval_rf_pca+'%'+' (+/- %0.2f)'%std_crossval_rf_pca)\n",
    "\n",
    "#Conduct cross validation on the validation set and print out the accuracy and standard deviations for SVC Classifier (PCA)\n",
    "cv_scores_knn_pca=cross_val_score(knn, pca_train_set,np.ravel(val_data_labels), cv=num_folds)\n",
    "accur_crossval_knn_pca=cv_scores_knn_pca.mean()*100\n",
    "std_crossval_knn_pca=cv_scores_knn.std()*200\n",
    "print('The Accuracy of the K-Nearest Neighbour Classifier with Cross Validation is : %f'%accur_crossval_knn_pca+'%'+' (+/- %0.2f)'%std_crossval_knn_pca)\n",
    "\n",
    "#Conduct cross validation on the validation set and print out the accuracy and standard deviations for SVC Classifier (PCA)\n",
    "cv_scores_mv_pca=cross_val_score(mv, pca_train_set,np.ravel(val_data_labels), cv=num_folds)\n",
    "accur_crossval_mv_pca=cv_scores_mv_pca.mean()*100\n",
    "std_crossval_mv_pca=cv_scores_mv_pca.std()*200\n",
    "print('The Accuracy of the Majority Voting Classifier with Cross Validation is : %f'%accur_crossval_mv_pca+'%'+' (+/- %0.2f)'%std_crossval_mv_pca)\n"
   ]
  },
  {
   "cell_type": "markdown",
   "metadata": {},
   "source": [
    "Following procedure is to perform LDA on the data to perform feature reduction. "
   ]
  },
  {
   "cell_type": "code",
   "execution_count": 7,
   "metadata": {},
   "outputs": [
    {
     "name": "stderr",
     "output_type": "stream",
     "text": [
      "/home/simondaniels/anaconda3/envs/my_env_new/lib/python3.7/site-packages/sklearn/discriminant_analysis.py:388: UserWarning: Variables are collinear.\n",
      "  warnings.warn(\"Variables are collinear.\")\n"
     ]
    }
   ],
   "source": [
    "#Perform LDA transform on the input data to reduce the feature space from 360 to 200 dimensions\n",
    "lda=LDA(n_components=200)\n",
    "lda_train_set=lda.fit_transform(val_data_features,np.ravel(val_data_labels))\n"
   ]
  },
  {
   "cell_type": "markdown",
   "metadata": {},
   "source": [
    "The following section conducts the cross validation once again, this time using the LDA transformed dataset to classify the data. The same number of folds as specified above. "
   ]
  },
  {
   "cell_type": "code",
   "execution_count": 8,
   "metadata": {},
   "outputs": [
    {
     "name": "stdout",
     "output_type": "stream",
     "text": [
      "The Accuracy of the Support Vector Machine Classifier +LDA with Cross Validation is : 95.776087% (+/- 10.23)\n",
      "The Accuracy of the Random Forest Classifier + LDA with Cross Validation is : 91.621739% (+/- 11.53)\n",
      "The Accuracy of the K-Nearest Neighbour Classifier + LDA with Cross Validation is : 92.456522% (+/- 10.56)\n",
      "The Accuracy of the Majority Voting Classifier +LDA with Cross Validation is : 92.873188% (+/- 11.36)\n"
     ]
    }
   ],
   "source": [
    "#Conduct cross validation on the validation set and print out the accuracy and standard deviations for SVC Classifier (LDA)\n",
    "cv_scores_svc_lda=cross_val_score(svc, lda_train_set,np.ravel(val_data_labels), cv=num_folds)\n",
    "accur_crossval_svc_lda=cv_scores_svc_lda.mean()*100\n",
    "std_crossval_svc_lda=cv_scores_svc_lda.std()*200\n",
    "print('The Accuracy of the Support Vector Machine Classifier +LDA with Cross Validation is : %f'%accur_crossval_svc_lda+'%'+' (+/- %0.2f)'%std_crossval_svc_lda)\n",
    "\n",
    "#Conduct cross validation on the validation set and print out the accuracy and standard deviations for SVC Classifier (LDA)\n",
    "cv_scores_rf_lda=cross_val_score(rf, lda_train_set,np.ravel(val_data_labels), cv=num_folds)\n",
    "accur_crossval_rf_lda=cv_scores_rf_lda.mean()*100\n",
    "std_crossval_rf_lda=cv_scores_rf_lda.std()*200\n",
    "print('The Accuracy of the Random Forest Classifier + LDA with Cross Validation is : %f'%accur_crossval_rf_lda+'%'+' (+/- %0.2f)'%std_crossval_rf_lda)\n",
    "\n",
    "#Conduct cross validation on the validation set and print out the accuracy and standard deviations for SVC Classifier (LDA)\n",
    "cv_scores_knn_lda=cross_val_score(knn, lda_train_set,np.ravel(val_data_labels), cv=num_folds)\n",
    "accur_crossval_knn_lda=cv_scores_knn_lda.mean()*100\n",
    "std_crossval_knn_lda=cv_scores_knn_lda.std()*200\n",
    "print('The Accuracy of the K-Nearest Neighbour Classifier + LDA with Cross Validation is : %f'%accur_crossval_knn_lda+'%'+' (+/- %0.2f)'%std_crossval_knn_lda)\n",
    "\n",
    "#Conduct cross validation on the validation set and print out the accuracy and standard deviations for SVC Classifier (LDA)\n",
    "cv_scores_mv_lda=cross_val_score(mv, lda_train_set,np.ravel(val_data_labels), cv=num_folds)\n",
    "accur_crossval_mv_lda=cv_scores_mv_lda.mean()*100\n",
    "std_crossval_mv_lda=cv_scores_mv_lda.std()*200\n",
    "print('The Accuracy of the Majority Voting Classifier +LDA with Cross Validation is : %f'%accur_crossval_mv_lda+'%'+' (+/- %0.2f)'%std_crossval_mv_lda)"
   ]
  },
  {
   "cell_type": "markdown",
   "metadata": {},
   "source": [
    "Following procedure is to perform ICA on the data to perform feature reduction. "
   ]
  },
  {
   "cell_type": "code",
   "execution_count": 15,
   "metadata": {},
   "outputs": [
    {
     "name": "stderr",
     "output_type": "stream",
     "text": [
      "/home/simondaniels/anaconda3/envs/my_env_new/lib/python3.7/site-packages/sklearn/decomposition/fastica_.py:305: UserWarning: n_components is too large: it will be set to 240\n",
      "  warnings.warn('n_components is too large: it will be set to %s' % n_components)\n",
      "/home/simondaniels/anaconda3/envs/my_env_new/lib/python3.7/site-packages/sklearn/decomposition/fastica_.py:121: ConvergenceWarning: FastICA did not converge. Consider increasing tolerance or the maximum number of iterations.\n",
      "  ConvergenceWarning)\n"
     ]
    }
   ],
   "source": [
    "#Perform ICA to transfrom the dataset from 360 to 320 components\n",
    "ica =  FastICA(n_components=320,random_state=0)\n",
    "ica_train_set=ica.fit_transform(val_data_features,np.ravel(val_data_labels))\n"
   ]
  },
  {
   "cell_type": "markdown",
   "metadata": {},
   "source": [
    "The following section conducts the cross validation once again, this time using the ICA transformed dataset to classify the data. The same number of folds as specified above. "
   ]
  },
  {
   "cell_type": "code",
   "execution_count": 16,
   "metadata": {},
   "outputs": [
    {
     "name": "stdout",
     "output_type": "stream",
     "text": [
      "The Accuracy of the Support Vector Machine Classifier + ICA with Cross Validation is : 64.907971% (+/- 18.42)\n",
      "The Accuracy of the Random Forest Classifier + ICA with Cross Validation is : 70.452899% (+/- 16.41)\n",
      "The Accuracy of the K-Nearest Neighbour Classifier + ICA with Cross Validation is : 47.165942% (+/- 17.66)\n",
      "The Accuracy of the Majority Voting Classifier + ICA with Cross Validation is : 66.680435% (+/- 17.32)\n"
     ]
    }
   ],
   "source": [
    "#Conduct cross validation on the validation set and print out the accuracy and standard deviations for SVC Classifier (ICA)\n",
    "cv_scores_svc_ica=cross_val_score(svc, ica_train_set,np.ravel(val_data_labels), cv=num_folds)\n",
    "accur_crossval_svc_ica=cv_scores_svc_ica.mean()*100\n",
    "std_crossval_svc_ica=cv_scores_svc_ica.std()*200\n",
    "print('The Accuracy of the Support Vector Machine Classifier + ICA with Cross Validation is : %f'%accur_crossval_svc_ica+'%'+' (+/- %0.2f)'%std_crossval_svc_ica)\n",
    "\n",
    "#Conduct cross validation on the validation set and print out the accuracy and standard deviations for SVC Classifier (ICA)\n",
    "cv_scores_rf_ica=cross_val_score(rf, ica_train_set,np.ravel(val_data_labels), cv=num_folds)\n",
    "accur_crossval_rf_ica=cv_scores_rf_ica.mean()*100\n",
    "std_crossval_rf_ica=cv_scores_rf_ica.std()*200\n",
    "print('The Accuracy of the Random Forest Classifier + ICA with Cross Validation is : %f'%accur_crossval_rf_ica+'%'+' (+/- %0.2f)'%std_crossval_rf_ica)\n",
    "\n",
    "#Conduct cross validation on the validation set and print out the accuracy and standard deviations for SVC Classifier (ICA)\n",
    "cv_scores_knn_ica=cross_val_score(knn, ica_train_set,np.ravel(val_data_labels), cv=num_folds)\n",
    "accur_crossval_knn_ica=cv_scores_knn_ica.mean()*100\n",
    "std_crossval_knn_ica=cv_scores_knn_ica.std()*200\n",
    "print('The Accuracy of the K-Nearest Neighbour Classifier + ICA with Cross Validation is : %f'%accur_crossval_knn_ica+'%'+' (+/- %0.2f)'%std_crossval_knn_ica)\n",
    "\n",
    "#Conduct cross validation on the validation set and print out the accuracy and standard deviations for SVC Classifier (ICA)\n",
    "cv_scores_mv_ica=cross_val_score(mv, ica_train_set,np.ravel(val_data_labels), cv=num_folds)\n",
    "accur_crossval_mv_ica=cv_scores_mv_ica.mean()*100\n",
    "std_crossval_mv_ica=cv_scores_mv_ica.std()*200\n",
    "print('The Accuracy of the Majority Voting Classifier + ICA with Cross Validation is : %f'%accur_crossval_mv_ica+'%'+' (+/- %0.2f)'%std_crossval_mv_ica)"
   ]
  },
  {
   "cell_type": "markdown",
   "metadata": {},
   "source": [
    "The following simply prints out a table that makes the results easily readable and interpretable."
   ]
  },
  {
   "cell_type": "code",
   "execution_count": 17,
   "metadata": {},
   "outputs": [
    {
     "name": "stdout",
     "output_type": "stream",
     "text": [
      "--------------------  ----------------------  -----------------  -------------------  -----------------\n",
      "                      Support Vector Machine  Random Forest      K-Nearest Neighbour  Majority Voting\n",
      "No Feature Reduction  71.59710144927536       78.3586956521739   72.41811594202898    76.6376811594203\n",
      "PCA                   76.67536231884058       78.84927536231883  70.47101449275362    78.32681159420291\n",
      "LDA                   95.77608695652174       91.62173913043479  92.45652173913044    92.87318840579711\n",
      "ICA                   64.90797101449274       70.45289855072463  47.165942028985505   66.68043478260869\n",
      "--------------------  ----------------------  -----------------  -------------------  -----------------\n"
     ]
    }
   ],
   "source": [
    "classifiers=[' ', 'Support Vector Machine','Random Forest','K-Nearest Neighbour','Majority Voting']\n",
    "feature_reducers=np.asarray(['No Feature Reduction','PCA','LDA','ICA'])\n",
    "accuracy_values=[(classifiers),(feature_reducers[0],accur_crossval_svc,accur_crossval_rf,accur_crossval_knn,accur_crossval_mv),(feature_reducers[1],accur_crossval_svc_pca,accur_crossval_rf_pca,accur_crossval_knn_pca,accur_crossval_mv_pca),(feature_reducers[2],accur_crossval_svc_lda,accur_crossval_rf_lda,accur_crossval_knn_lda,accur_crossval_mv_lda),(feature_reducers[3],accur_crossval_svc_ica,accur_crossval_rf_ica,accur_crossval_knn_ica,accur_crossval_mv_ica)]\n",
    "print(tabulate(accuracy_values))"
   ]
  },
  {
   "cell_type": "code",
   "execution_count": 18,
   "metadata": {},
   "outputs": [],
   "source": [
    "########################################################################################################################\n",
    "# Function Name: plot_confusion_matrix\n",
    "# Function Inputs : cm,classes,normalize,title, cmap\n",
    "# Returns: ax\n",
    "# Description: This function takes in a confusion matrix and plots it out in a matplot axis. This function is used as a \n",
    "#              helper to make a nice graphical representation of the confusion matrix. This function was obtained from \n",
    "#              https://scikit-learn.org/stable/auto_examples/model_selection/plot_confusion_matrix.html\n",
    "#########################################################################################################################\n",
    "def plot_confusion_matrix(cm, classes,\n",
    "                          normalize=False,\n",
    "                          title=None,\n",
    "                          cmap=plt.cm.Blues):\n",
    "    \"\"\"\n",
    "    This function prints and plots the confusion matrix.\n",
    "    Normalization can be applied by setting `normalize=True`.\n",
    "    \"\"\"\n",
    "    if not title:\n",
    "        if normalize:\n",
    "            title = 'Normalized confusion matrix'\n",
    "        else:\n",
    "            title = 'Confusion matrix, without normalization'\n",
    "\n",
    "    # Compute confusion matrix\n",
    "    cm = cm\n",
    "    # Only use the labels that appear in the data\n",
    "    classes = classes\n",
    "    if normalize:\n",
    "        cm = cm.astype('float') / cm.sum(axis=1)[:, np.newaxis]\n",
    "        print(\"Normalized confusion matrix\")\n",
    "    else:\n",
    "        print('Confusion matrix, without normalization')\n",
    "\n",
    "    print(cm)\n",
    "\n",
    "    fig, ax = plt.subplots()\n",
    "    im = ax.imshow(cm, interpolation='nearest', cmap=cmap)\n",
    "    ax.figure.colorbar(im, ax=ax)\n",
    "    # We want to show all ticks...\n",
    "    ax.set(xticks=np.arange(cm.shape[1]),\n",
    "           yticks=np.arange(cm.shape[0]),\n",
    "           # ... and label them with the respective list entries\n",
    "           xticklabels=classes, yticklabels=classes,\n",
    "           title=title,\n",
    "           ylabel='True label',\n",
    "           xlabel='Predicted label')\n",
    "\n",
    "    # Rotate the tick labels and set their alignment.\n",
    "    plt.setp(ax.get_xticklabels(), rotation=45, ha=\"right\",\n",
    "             rotation_mode=\"anchor\")\n",
    "\n",
    "    # Loop over data dimensions and create text annotations.\n",
    "    fmt = '.2f' if normalize else 'd'\n",
    "    thresh = cm.max() / 2.\n",
    "    for i in range(cm.shape[0]):\n",
    "        for j in range(cm.shape[1]):\n",
    "            ax.text(j, i, format(cm[i, j], fmt),\n",
    "                    ha=\"center\", va=\"center\",\n",
    "                    color=\"white\" if cm[i, j] > thresh else \"black\")\n",
    "    fig.tight_layout()\n",
    "    return ax"
   ]
  },
  {
   "cell_type": "code",
   "execution_count": 56,
   "metadata": {},
   "outputs": [],
   "source": [
    "train_data_features, test_data_features, train_data_labels, test_data_labels = train_test_split(features, labels, test_size=0.1333333, random_state=7)"
   ]
  },
  {
   "cell_type": "code",
   "execution_count": 57,
   "metadata": {},
   "outputs": [
    {
     "name": "stderr",
     "output_type": "stream",
     "text": [
      "/home/simondaniels/anaconda3/envs/my_env_new/lib/python3.7/site-packages/sklearn/discriminant_analysis.py:388: UserWarning: Variables are collinear.\n",
      "  warnings.warn(\"Variables are collinear.\")\n"
     ]
    },
    {
     "name": "stdout",
     "output_type": "stream",
     "text": [
      "Confusion matrix, without normalization\n",
      "[[32  7]\n",
      " [13 28]]\n",
      "The Majority Voting Classifier Accuracy with LDA is: 75.000000%\n"
     ]
    },
    {
     "data": {
      "image/png": "[encoded data removed]",
      "text/plain": [
       "<Figure size 432x288 with 2 Axes>"
      ]
     },
     "metadata": {
      "needs_background": "light"
     },
     "output_type": "display_data"
    }
   ],
   "source": [
    "lda=LDA(n_components=200)\n",
    "lda_train_set_cm=lda.fit_transform(train_data_features,np.ravel(train_data_labels))\n",
    "lda_test_set_cm = lda.transform(test_data_features)\n",
    "\n",
    "#Define classes for Confusion matrix and evaluate and then print it out using the function above.\n",
    "classes=['Natural Scene','Man Made Object in Natural Scene']\n",
    "clf_cm=mv.fit(lda_train_set_cm,np.ravel(train_data_labels))\n",
    "prediction_cm=clf_cm.predict(lda_test_set_cm)\n",
    "cmat_mv=confusion_matrix(test_data_labels,prediction_cm)\n",
    "plot_confusion_matrix(cmat_mv, classes=classes, title='Confusion matrix')\n",
    "plt.savefig('MV confusion matrix.png')\n",
    "\n",
    "#Evaluate performance of the Classifer with LDA\n",
    "mv_lda_score=accuracy_score(test_data_labels,prediction_cm)\n",
    "print('The Majority Voting Classifier Accuracy with LDA is: %f'%(mv_lda_score*100)+'%')"
   ]
  },
  {
   "cell_type": "code",
   "execution_count": 58,
   "metadata": {},
   "outputs": [
    {
     "name": "stdout",
     "output_type": "stream",
     "text": [
      "The Majority Voting Classifier with LDA Predicted Precision is: 75.555556%\n",
      "The Majority Voting Classifier with LDA Predicted Sensitivity is: 82.051282%\n",
      "The Majority Voting Classifier with LDA Predicted Specificity is: 68.292683%\n"
     ]
    }
   ],
   "source": [
    "#Compute the TP,TN,FP,FN from the confusion matrix\n",
    "TP = cmat_mv[0,0]\n",
    "TN = cmat_mv[1,1]\n",
    "FP = cmat_mv[1,0]\n",
    "FN = cmat_mv[0,1]\n",
    "\n",
    "#Use these values to evalute the classifier's precision\n",
    "Predicted_precision_mv_lda=precision_score(test_data_labels, prediction_cm, average='macro')\n",
    "print('The Majority Voting Classifier with LDA Predicted Precision is: %f'%(Predicted_precision_mv_lda*100)+'%')\n",
    "\n",
    "#Use these values to evalute the classifier's Sensitivity and Specificity\n",
    "sensitivity=(TP/(TP+FN))\n",
    "specificity=(TN/(TN+FP))\n",
    "print('The Majority Voting Classifier with LDA Predicted Sensitivity is: %f'%(sensitivity*100)+'%')\n",
    "print('The Majority Voting Classifier with LDA Predicted Specificity is: %f'%(specificity*100)+'%')\n"
   ]
  },
  {
   "cell_type": "code",
   "execution_count": null,
   "metadata": {},
   "outputs": [],
   "source": []
  }
 ],
 "metadata": {
  "kernelspec": {
   "display_name": "Python 3",
   "language": "python",
   "name": "python3"
  },
  "language_info": {
   "codemirror_mode": {
    "name": "ipython",
    "version": 3
   },
   "file_extension": ".py",
   "mimetype": "text/x-python",
   "name": "python",
   "nbconvert_exporter": "python",
   "pygments_lexer": "ipython3",
   "version": "3.7.3"
  }
 },
 "nbformat": 4,
 "nbformat_minor": 2
}
