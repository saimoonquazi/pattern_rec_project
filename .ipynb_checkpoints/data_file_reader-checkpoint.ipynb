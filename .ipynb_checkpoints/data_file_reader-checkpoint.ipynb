{
 "cells": [
  {
   "cell_type": "code",
   "execution_count": 77,
   "metadata": {},
   "outputs": [],
   "source": [
    "import csv\n",
    "import random\n",
    "import numpy as np\n",
    "from sklearn import tree\n",
    "from sklearn.model_selection import train_test_split\n",
    "from sklearn.model_selection import cross_val_score\n",
    "from sklearn.metrics import accuracy_score\n",
    "from sklearn.svm import SVC\n",
    "from sklearn.decomposition import PCA\n",
    "from sklearn.preprocessing import StandardScaler\n",
    "from sklearn.discriminant_analysis import LinearDiscriminantAnalysis as LDA"
   ]
  },
  {
   "cell_type": "code",
   "execution_count": 64,
   "metadata": {},
   "outputs": [],
   "source": [
    "#Open the data file\n",
    "csv.register_dialect('myDialect',\n",
    "delimiter = '\\t',\n",
    "skipinitialspace=True)\n",
    "\n",
    "#Read data and store the data\n",
    "data_table = []\n",
    "with open('features.csv', 'r') as csvFile:\n",
    "    reader = csv.reader(csvFile, dialect='myDialect')\n",
    "    data_table = list(reader)\n",
    "csvFile.close()\n",
    "\n",
    "data = np.zeros((len(data_table), len(data_table[0])))\n",
    "\n",
    "for i in range(0,len(data_table)):\n",
    "    tmp = data_table[i]\n",
    "    for j in range(0,len(tmp)):\n",
    "        data[i,j] = float(tmp[j])\n",
    "np.random.shuffle(data)\n",
    "\n",
    "features=data[:,1:]\n",
    "labels=data[:,[0]]\n",
    "\n",
    "train_data_features, test_data_features, train_data_labels, test_data_labels = train_test_split(features, labels, test_size=0.2, random_state=10)\n"
   ]
  },
  {
   "cell_type": "code",
   "execution_count": 65,
   "metadata": {},
   "outputs": [
    {
     "name": "stderr",
     "output_type": "stream",
     "text": [
      "/home/simondaniels/anaconda3/envs/my_env_new/lib/python3.7/site-packages/sklearn/utils/validation.py:761: DataConversionWarning: A column-vector y was passed when a 1d array was expected. Please change the shape of y to (n_samples, ), for example using ravel().\n",
      "  y = column_or_1d(y, warn=True)\n"
     ]
    },
    {
     "name": "stdout",
     "output_type": "stream",
     "text": [
      "0.5952380952380952\n"
     ]
    }
   ],
   "source": [
    "svc=SVC(kernel='linear', C=1)\n",
    "clf=svc.fit(train_data_features,train_data_labels)\n",
    "#Test the classifier using the test dataset separted above\n",
    "prediction_svc=clf.predict(test_data_features)\n",
    "svc_score=accuracy_score(test_data_labels,prediction_d3)\n",
    "print(d3_score)"
   ]
  },
  {
   "cell_type": "code",
   "execution_count": 75,
   "metadata": {},
   "outputs": [
    {
     "name": "stdout",
     "output_type": "stream",
     "text": [
      "[9.35487903e-01 2.60190610e-02 1.60364621e-02 1.01084255e-02\n",
      " 5.25743640e-03 2.09821379e-03 1.13880953e-03 9.85232591e-04\n",
      " 7.35820060e-04 5.45879067e-04 4.38197461e-04 2.08647556e-04\n",
      " 2.00561215e-04 1.85824857e-04 1.14176590e-04 8.22955516e-05\n",
      " 6.46959593e-05 4.91407286e-05 4.07678270e-05 3.35108902e-05\n",
      " 2.84645814e-05 2.51331712e-05 2.36764412e-05 1.47389194e-05\n",
      " 1.39688442e-05 1.20064893e-05 8.70879263e-06 7.80861884e-06\n",
      " 6.31323873e-06 5.62661484e-06 4.17272975e-06 3.79670700e-06\n",
      " 3.21292252e-06 2.37670928e-06 2.09577333e-06 1.68974708e-06\n",
      " 1.60195118e-06 1.17147965e-06 1.04493249e-06 7.10262030e-07]\n",
      "The Decision Tree Classifier Accuracy with PCA is: 47.619048%\n"
     ]
    }
   ],
   "source": [
    "# Scale the input data (Good Practice when performing PCA)\n",
    "sc=StandardScaler()\n",
    "train_set=sc.fit_transform(train_data_features)\n",
    "test_set=sc.fit_transform(test_data_features)\n",
    "\n",
    "#Perform PCA on the input data reducing the input from 4 dimensions to 2 dimensions\n",
    "pca=PCA(n_components=40)\n",
    "pca_train_set= pca.fit_transform(train_set) \n",
    "pca_test_set=pca.fit_transform(test_set)\n",
    "print(pca.explained_variance_ratio_)  \n",
    "clf_pca=d3.fit(pca_train_set,train_data_labels)\n",
    "prediction_pca=clf_pca.predict(pca_test_set)\n",
    "d3_pca_score=accuracy_score(test_data_labels,prediction_pca)\n",
    "print('The Decision Tree Classifier Accuracy with PCA is: %f'%(d3_pca_score*100)+'%')"
   ]
  },
  {
   "cell_type": "code",
   "execution_count": 92,
   "metadata": {},
   "outputs": [
    {
     "name": "stdout",
     "output_type": "stream",
     "text": [
      "The Decision Tree Classifier Accuracy with LDA is: 64.285714%\n"
     ]
    },
    {
     "name": "stderr",
     "output_type": "stream",
     "text": [
      "/home/simondaniels/anaconda3/envs/my_env_new/lib/python3.7/site-packages/sklearn/discriminant_analysis.py:388: UserWarning: Variables are collinear.\n",
      "  warnings.warn(\"Variables are collinear.\")\n"
     ]
    }
   ],
   "source": [
    "lda=LDA(n_components=200)\n",
    "lda_train_set=lda.fit_transform(train_data_features,np.ravel(train_data_labels))\n",
    "lda_test_set = lda.transform(test_data_features)\n",
    "\n",
    "#Run Decision Tree Classifier on the LDA training data & Predict Labels using the LDA test data\n",
    "clf_lda=d3.fit(lda_train_set,train_data_labels)\n",
    "prediction_lda=clf_lda.predict(lda_test_set)\n",
    "d3_lda_score=accuracy_score(test_data_labels,prediction_lda)\n",
    "print('The Decision Tree Classifier Accuracy with LDA is: %f'%(d3_lda_score*100)+'%')\n"
   ]
  },
  {
   "cell_type": "code",
   "execution_count": null,
   "metadata": {},
   "outputs": [],
   "source": [
    "scores_d3 = cross_val_score(d3, features, labels, cv=10)\n",
    "accur_crossval_d3=scores_d3.mean()*100\n",
    "std_crossval_d3=scores_d3.std() * 2\n",
    "print('The Accuracy of the Decision Tree Classifier with 10-fold Cross Validation is : %f'%accur_crossval_d3+'%'+' (+/- %0.2f)'%std_crossval_d3)\n"
   ]
  },
  {
   "cell_type": "code",
   "execution_count": null,
   "metadata": {},
   "outputs": [],
   "source": []
  }
 ],
 "metadata": {
  "kernelspec": {
   "display_name": "Python 3",
   "language": "python",
   "name": "python3"
  },
  "language_info": {
   "codemirror_mode": {
    "name": "ipython",
    "version": 3
   },
   "file_extension": ".py",
   "mimetype": "text/x-python",
   "name": "python",
   "nbconvert_exporter": "python",
   "pygments_lexer": "ipython3",
   "version": "3.7.3"
  }
 },
 "nbformat": 4,
 "nbformat_minor": 2
}
