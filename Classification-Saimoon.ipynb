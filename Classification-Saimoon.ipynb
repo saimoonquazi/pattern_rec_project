{
 "cells": [
  {
   "cell_type": "markdown",
   "metadata": {},
   "source": [
    "Importing Relevant Libraries"
   ]
  },
  {
   "cell_type": "code",
   "execution_count": 2,
   "metadata": {},
   "outputs": [],
   "source": [
    "import csv\n",
    "import random\n",
    "import numpy as np\n",
    "from sklearn import tree\n",
    "from sklearn.model_selection import train_test_split\n",
    "from sklearn.model_selection import cross_val_score\n",
    "from sklearn.metrics import accuracy_score\n",
    "from sklearn.svm import SVC\n",
    "from sklearn.decomposition import PCA\n",
    "from sklearn.preprocessing import StandardScaler\n",
    "from sklearn.neighbors import KNeighborsClassifier\n",
    "from sklearn.ensemble import RandomForestClassifier, VotingClassifier\n",
    "from sklearn.discriminant_analysis import LinearDiscriminantAnalysis as LDA\n",
    "import data_file_reader"
   ]
  },
  {
   "cell_type": "markdown",
   "metadata": {},
   "source": [
    "Calling File reader and splitting train and test set from the overall data"
   ]
  },
  {
   "cell_type": "code",
   "execution_count": 3,
   "metadata": {},
   "outputs": [],
   "source": [
    "filename='features_train.csv'\n",
    "data,features,labels=data_file_reader.file_reader(filename)\n",
    "train_data_features, test_data_features, train_data_labels, test_data_labels = train_test_split(features, labels, test_size=0.2, random_state=10)"
   ]
  },
  {
   "cell_type": "markdown",
   "metadata": {},
   "source": [
    "Defining the classifiers to be used"
   ]
  },
  {
   "cell_type": "code",
   "execution_count": 4,
   "metadata": {},
   "outputs": [],
   "source": [
    "svc=SVC(kernel='linear', C=1)\n",
    "rf=RandomForestClassifier(n_estimators=50, random_state=1)\n",
    "knn=KNeighborsClassifier(n_neighbors=3)\n",
    "mv=VotingClassifier(estimators=[('rf', rf),('knn',knn),('svc',svc)], voting='hard')"
   ]
  },
  {
   "cell_type": "markdown",
   "metadata": {},
   "source": [
    "Performing cross validation on the classfiers to gauge performance"
   ]
  },
  {
   "cell_type": "code",
   "execution_count": 5,
   "metadata": {},
   "outputs": [
    {
     "name": "stdout",
     "output_type": "stream",
     "text": [
      "The Accuracy of the Support Vector Machine Classifier with 10-fold Cross Validation is : 81.593353% (+/- 0.12)\n",
      "The Accuracy of the Random Forest Classifier with 10-fold Cross Validation is : 85.141740% (+/- 0.12)\n",
      "The Accuracy of the K-Nearest Neighbour Classifier with 10-fold Cross Validation is : 82.903226% (+/- 0.10)\n",
      "The Accuracy of the Majority Voting Classifier with 10-fold Cross Validation is : 86.999022% (+/- 0.10)\n"
     ]
    }
   ],
   "source": [
    "cv_scores_svc=cross_val_score(svc, train_data_features,np.ravel(train_data_labels), cv=10)\n",
    "accur_crossval_svc=cv_scores_svc.mean()*100\n",
    "std_crossval_svc=cv_scores_svc.std()*2\n",
    "print('The Accuracy of the Support Vector Machine Classifier with 10-fold Cross Validation is : %f'%accur_crossval_svc+'%'+' (+/- %0.2f)'%std_crossval_svc)\n",
    "\n",
    "cv_scores_rf=cross_val_score(rf, train_data_features,np.ravel(train_data_labels), cv=10)\n",
    "accur_crossval_rf=cv_scores_rf.mean()*100\n",
    "std_crossval_rf=cv_scores_rf.std()*2\n",
    "print('The Accuracy of the Random Forest Classifier with 10-fold Cross Validation is : %f'%accur_crossval_rf+'%'+' (+/- %0.2f)'%std_crossval_rf)\n",
    "\n",
    "cv_scores_knn=cross_val_score(knn, train_data_features,np.ravel(train_data_labels), cv=10)\n",
    "accur_crossval_knn=cv_scores_knn.mean()*100\n",
    "std_crossval_knn=cv_scores_knn.std()*2\n",
    "print('The Accuracy of the K-Nearest Neighbour Classifier with 10-fold Cross Validation is : %f'%accur_crossval_knn+'%'+' (+/- %0.2f)'%std_crossval_knn)\n",
    "\n",
    "cv_scores_mv=cross_val_score(mv, train_data_features,np.ravel(train_data_labels), cv=10)\n",
    "accur_crossval_mv=cv_scores_mv.mean()*100\n",
    "std_crossval_mv=cv_scores_mv.std()*2\n",
    "print('The Accuracy of the Majority Voting Classifier with 10-fold Cross Validation is : %f'%accur_crossval_mv+'%'+' (+/- %0.2f)'%std_crossval_mv)\n"
   ]
  },
  {
   "cell_type": "markdown",
   "metadata": {},
   "source": [
    "Test Accuracy"
   ]
  },
  {
   "cell_type": "code",
   "execution_count": 12,
   "metadata": {},
   "outputs": [
    {
     "name": "stdout",
     "output_type": "stream",
     "text": [
      "The Random Forest Classifier Accuracy is: 85.000000%\n"
     ]
    }
   ],
   "source": [
    "rf_clf=rf.fit(train_data_features,np.ravel(train_data_labels))\n",
    "prediction_rf=rf_lda.predict(test_data_features)\n",
    "rf_score=accuracy_score(test_data_labels,prediction_rf)\n",
    "print('The Random Forest Classifier Accuracy is: %f'%(rf_score*100)+'%')"
   ]
  },
  {
   "cell_type": "markdown",
   "metadata": {},
   "source": [
    "Following are two procedures to perform PCA and LDA on the data to perform feature reduction. "
   ]
  },
  {
   "cell_type": "code",
   "execution_count": 6,
   "metadata": {},
   "outputs": [
    {
     "name": "stdout",
     "output_type": "stream",
     "text": [
      "[8.91869850e-01 4.91621793e-02 1.85044092e-02 1.45781479e-02\n",
      " 8.88418884e-03 6.31858412e-03 2.76583588e-03 2.02294241e-03\n",
      " 1.02585962e-03 8.07986733e-04 7.46700187e-04 5.76930830e-04\n",
      " 4.78889280e-04 3.43817259e-04 3.03797944e-04 2.41133337e-04\n",
      " 1.92414996e-04 1.77777417e-04 1.36745437e-04 1.16583190e-04\n",
      " 9.85832456e-05 9.79087906e-05 7.33971433e-05 7.11634636e-05\n",
      " 4.63349944e-05 4.29096102e-05 3.43062725e-05 3.17417216e-05\n",
      " 2.61825841e-05 2.50970413e-05 2.27608488e-05 1.90762189e-05\n",
      " 1.81383716e-05 1.55151545e-05 1.35455445e-05 1.16894752e-05\n",
      " 9.88551888e-06 8.74717993e-06 8.41672381e-06 7.66473103e-06\n",
      " 7.22634033e-06 5.84993251e-06 5.23212950e-06 4.61766127e-06\n",
      " 4.08501160e-06 3.62449165e-06 3.38947429e-06 2.84218091e-06\n",
      " 2.76364051e-06 2.35707431e-06 2.19047958e-06 2.08721952e-06\n",
      " 1.79775123e-06 1.54614873e-06 1.32165465e-06 1.20238737e-06\n",
      " 9.91387462e-07 9.30946760e-07 8.94360507e-07 8.62148025e-07\n",
      " 7.26822664e-07 6.94351304e-07 5.72216854e-07 5.37872172e-07\n",
      " 4.88172609e-07 4.55473628e-07 4.17629161e-07 3.56428119e-07\n",
      " 3.12141569e-07 2.96882979e-07 2.87405674e-07 2.43454202e-07\n",
      " 2.26878076e-07 1.98957102e-07 1.71765156e-07 1.15295401e-07\n",
      " 1.00055760e-07 9.02560474e-08 5.74941667e-08 6.38550859e-33]\n"
     ]
    }
   ],
   "source": [
    "# Scale the input data (Good Practice when performing PCA)\n",
    "sc=StandardScaler()\n",
    "train_set=sc.fit_transform(train_data_features)\n",
    "test_set=sc.fit_transform(test_data_features)\n",
    "\n",
    "#Perform PCA on the input data reducing the input from 4 dimensions to 2 dimensions\n",
    "pca=PCA(n_components=80)\n",
    "pca_train_set= pca.fit_transform(train_set) \n",
    "pca_test_set=pca.fit_transform(test_set)\n",
    "print(pca.explained_variance_ratio_)  "
   ]
  },
  {
   "cell_type": "code",
   "execution_count": 16,
   "metadata": {},
   "outputs": [
    {
     "name": "stdout",
     "output_type": "stream",
     "text": [
      "The Random Forest Classifier Accuracy with PCA is: 78.750000%\n"
     ]
    }
   ],
   "source": [
    "rf_pca=rf.fit(pca_train_set,np.ravel(train_data_labels))\n",
    "prediction_pca=rf_pca.predict(pca_test_set)\n",
    "rf_pca_score=accuracy_score(test_data_labels,prediction_pca)\n",
    "print('The Random Forest Classifier Accuracy with PCA is: %f'%(rf_pca_score*100)+'%')"
   ]
  },
  {
   "cell_type": "code",
   "execution_count": 17,
   "metadata": {},
   "outputs": [
    {
     "name": "stdout",
     "output_type": "stream",
     "text": [
      "The Random Forest Classifier Accuracy with LDA is: 80.000000%\n"
     ]
    },
    {
     "name": "stderr",
     "output_type": "stream",
     "text": [
      "/home/simondaniels/anaconda3/envs/my_env_new/lib/python3.7/site-packages/sklearn/discriminant_analysis.py:388: UserWarning: Variables are collinear.\n",
      "  warnings.warn(\"Variables are collinear.\")\n"
     ]
    }
   ],
   "source": [
    "lda=LDA(n_components=200)\n",
    "lda_train_set=lda.fit_transform(train_data_features,np.ravel(train_data_labels))\n",
    "lda_test_set = lda.transform(test_data_features)\n",
    "\n",
    "rf_lda=rf.fit(lda_train_set,np.ravel(train_data_labels))\n",
    "prediction_lda=rf_lda.predict(lda_test_set)\n",
    "rf_lda_score=accuracy_score(test_data_labels,prediction_lda)\n",
    "print('The Random Forest Classifier Accuracy with LDA is: %f'%(rf_lda_score*100)+'%')"
   ]
  },
  {
   "cell_type": "code",
   "execution_count": null,
   "metadata": {},
   "outputs": [],
   "source": []
  }
 ],
 "metadata": {
  "kernelspec": {
   "display_name": "Python 3",
   "language": "python",
   "name": "python3"
  },
  "language_info": {
   "codemirror_mode": {
    "name": "ipython",
    "version": 3
   },
   "file_extension": ".py",
   "mimetype": "text/x-python",
   "name": "python",
   "nbconvert_exporter": "python",
   "pygments_lexer": "ipython3",
   "version": "3.7.3"
  }
 },
 "nbformat": 4,
 "nbformat_minor": 2
}
